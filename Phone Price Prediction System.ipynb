{
 "cells": [
  {
   "cell_type": "code",
   "execution_count": 1,
   "id": "99363d29",
   "metadata": {},
   "outputs": [],
   "source": [
    "# importing important packages\n",
    "import pandas as pd\n",
    "import matplotlib.pyplot as plt\n",
    "import seaborn as sns\n",
    "from sklearn import preprocessing\n",
    "from sklearn.model_selection import train_test_split\n",
    "from sklearn import svm\n",
    "from sklearn.svm import SVC\n",
    "from sklearn.metrics import mean_absolute_error\n",
    "from sklearn.metrics import mean_absolute_percentage_error\n",
    "from sklearn.ensemble import RandomForestRegressor\n",
    "from math import sqrt"
   ]
  },
  {
   "cell_type": "code",
   "execution_count": 2,
   "id": "2946d000",
   "metadata": {},
   "outputs": [
    {
     "name": "stdout",
     "output_type": "stream",
     "text": [
      "  Brand Model  Memory  Storage  Selling Price  Original Price\n",
      "0  OPPO   A53     4.0     64.0          11990           15990\n",
      "1  OPPO   A53     4.0     64.0          11990           15990\n",
      "2  OPPO   A53     6.0    128.0          13990           17990\n",
      "3  OPPO   A53     6.0    128.0          13990           17990\n",
      "4  OPPO   A53     4.0     64.0          11990           15990\n"
     ]
    }
   ],
   "source": [
    "# reading the dataset\n",
    "dataset = pd.read_excel(\"Flipkart_Mobiles.xlsx\")\n",
    " \n",
    "# Printing first 5 records of the dataset\n",
    "print(dataset.head(5))"
   ]
  },
  {
   "cell_type": "code",
   "execution_count": 3,
   "id": "9d3d4175",
   "metadata": {},
   "outputs": [
    {
     "name": "stdout",
     "output_type": "stream",
     "text": [
      "Shape of dataset: (2936, 6)\n"
     ]
    },
    {
     "data": {
      "text/plain": [
       "Brand              0\n",
       "Model              0\n",
       "Memory            38\n",
       "Storage           39\n",
       "Selling Price      0\n",
       "Original Price     0\n",
       "dtype: int64"
      ]
     },
     "execution_count": 3,
     "metadata": {},
     "output_type": "execute_result"
    }
   ],
   "source": [
    "print('Shape of dataset:', dataset.shape)\n",
    "# Checking null values for training dataset\n",
    "dataset.isnull().sum()"
   ]
  },
  {
   "cell_type": "code",
   "execution_count": 4,
   "id": "d75bf691",
   "metadata": {},
   "outputs": [
    {
     "data": {
      "text/plain": [
       "Brand             0\n",
       "Model             0\n",
       "Memory            0\n",
       "Storage           0\n",
       "Selling Price     0\n",
       "Original Price    0\n",
       "dtype: int64"
      ]
     },
     "execution_count": 4,
     "metadata": {},
     "output_type": "execute_result"
    }
   ],
   "source": [
    "#Remove records with null values\n",
    "dataset = dataset.dropna()\n",
    "dataset.isnull().sum()\n"
   ]
  },
  {
   "cell_type": "code",
   "execution_count": 5,
   "id": "361147c6",
   "metadata": {
    "scrolled": true
   },
   "outputs": [
    {
     "name": "stdout",
     "output_type": "stream",
     "text": [
      "<class 'pandas.core.frame.DataFrame'>\n",
      "Int64Index: 2859 entries, 0 to 2935\n",
      "Data columns (total 6 columns):\n",
      " #   Column          Non-Null Count  Dtype \n",
      "---  ------          --------------  ----- \n",
      " 0   Brand           2859 non-null   string\n",
      " 1   Model           2859 non-null   string\n",
      " 2   Memory          2859 non-null   int64 \n",
      " 3   Storage         2859 non-null   int64 \n",
      " 4   Selling Price   2859 non-null   int64 \n",
      " 5   Original Price  2859 non-null   int64 \n",
      "dtypes: int64(4), string(2)\n",
      "memory usage: 156.4 KB\n"
     ]
    }
   ],
   "source": [
    "# Changing the Datatype\n",
    "dataset['Storage'] = dataset['Original Price'].astype('int64')\n",
    "dataset['Memory'] = dataset['Memory'].astype('int64')\n",
    "dataset['Selling Price'] = dataset['Selling Price'].astype('int64')\n",
    "dataset['Original Price'] = dataset['Original Price'].astype('int64')\n",
    "dataset['Model'] = dataset['Model'].astype('string')\n",
    "dataset['Brand'] = dataset['Brand'].astype('string')\n",
    "\n",
    "dataset.info()"
   ]
  },
  {
   "cell_type": "code",
   "execution_count": 6,
   "id": "565ea7d2",
   "metadata": {},
   "outputs": [],
   "source": [
    "# label_encoder object knows how to understand word labels and changes them into numerical values.\n",
    "label_encoder = preprocessing.LabelEncoder()\n",
    "\n",
    "# Encode labels in column 'Brand' and Model.\n",
    "dataset['Brand']= label_encoder.fit_transform(dataset['Brand'])\n",
    "dataset['Model']= label_encoder.fit_transform(dataset['Model'])"
   ]
  },
  {
   "cell_type": "code",
   "execution_count": 7,
   "id": "26de5c1e",
   "metadata": {},
   "outputs": [],
   "source": [
    "# Split the dataset into training and test set\n",
    "features =['Brand' ,'Model', 'Memory','Storage','Original Price']\n",
    "X = dataset.loc[:,features]     \n",
    "Y = dataset.loc[:,'Selling Price']\n",
    "X_train, X_test, Y_train, Y_test = train_test_split(X, Y, train_size=0.8, test_size=0.2, random_state=0)"
   ]
  },
  {
   "cell_type": "code",
   "execution_count": 8,
   "id": "a5d574ac",
   "metadata": {},
   "outputs": [
    {
     "name": "stdout",
     "output_type": "stream",
     "text": [
      "mean absolute percentage error: 0.6829209325684032\n"
     ]
    }
   ],
   "source": [
    "# Using SVM Algorithm\n",
    "model_SVR = svm.SVR()\n",
    "model_SVR.fit(X_train,Y_train)\n",
    "Y_pred = model_SVR.predict(X_test)\n",
    "#performance metrics\n",
    "print('mean absolute percentage error:',mean_absolute_percentage_error(Y_test, Y_pred)) "
   ]
  },
  {
   "cell_type": "code",
   "execution_count": 9,
   "id": "d799c65b",
   "metadata": {},
   "outputs": [
    {
     "name": "stdout",
     "output_type": "stream",
     "text": [
      "mean absolute percentage error: 0.05626823041354862\n"
     ]
    }
   ],
   "source": [
    "#Using Random Forest Regressor \n",
    "model_RFR = RandomForestRegressor(n_estimators=10)\n",
    "model_RFR.fit(X_train, Y_train)\n",
    "Y_pred = model_RFR.predict(X_test)\n",
    "#performance metric\n",
    "print('mean absolute percentage error:',mean_absolute_percentage_error(Y_test, Y_pred))"
   ]
  }
 ],
 "metadata": {
  "kernelspec": {
   "display_name": "Python 3 (ipykernel)",
   "language": "python",
   "name": "python3"
  },
  "language_info": {
   "codemirror_mode": {
    "name": "ipython",
    "version": 3
   },
   "file_extension": ".py",
   "mimetype": "text/x-python",
   "name": "python",
   "nbconvert_exporter": "python",
   "pygments_lexer": "ipython3",
   "version": "3.9.12"
  }
 },
 "nbformat": 4,
 "nbformat_minor": 5
}
